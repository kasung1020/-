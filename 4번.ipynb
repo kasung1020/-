{
 "cells": [
  {
   "cell_type": "code",
   "execution_count": 2,
   "id": "ef58f076-36b4-447d-afd2-afc67798bc22",
   "metadata": {},
   "outputs": [
    {
     "name": "stdout",
     "output_type": "stream",
     "text": [
      "Requirement already satisfied: folium in c:\\users\\mac019\\anaconda3\\lib\\site-packages (0.18.0)\n",
      "Requirement already satisfied: branca>=0.6.0 in c:\\users\\mac019\\anaconda3\\lib\\site-packages (from folium) (0.8.0)\n",
      "Requirement already satisfied: jinja2>=2.9 in c:\\users\\mac019\\anaconda3\\lib\\site-packages (from folium) (3.1.3)\n",
      "Requirement already satisfied: numpy in c:\\users\\mac019\\anaconda3\\lib\\site-packages (from folium) (1.26.4)\n",
      "Requirement already satisfied: requests in c:\\users\\mac019\\anaconda3\\lib\\site-packages (from folium) (2.31.0)\n",
      "Requirement already satisfied: xyzservices in c:\\users\\mac019\\anaconda3\\lib\\site-packages (from folium) (2022.9.0)\n",
      "Requirement already satisfied: MarkupSafe>=2.0 in c:\\users\\mac019\\anaconda3\\lib\\site-packages (from jinja2>=2.9->folium) (2.1.3)\n",
      "Requirement already satisfied: charset-normalizer<4,>=2 in c:\\users\\mac019\\anaconda3\\lib\\site-packages (from requests->folium) (2.0.4)\n",
      "Requirement already satisfied: idna<4,>=2.5 in c:\\users\\mac019\\anaconda3\\lib\\site-packages (from requests->folium) (3.4)\n",
      "Requirement already satisfied: urllib3<3,>=1.21.1 in c:\\users\\mac019\\anaconda3\\lib\\site-packages (from requests->folium) (2.0.7)\n",
      "Requirement already satisfied: certifi>=2017.4.17 in c:\\users\\mac019\\anaconda3\\lib\\site-packages (from requests->folium) (2024.2.2)\n"
     ]
    }
   ],
   "source": [
    "!pip install folium"
   ]
  },
  {
   "cell_type": "code",
   "execution_count": 3,
   "id": "f73e1782-c670-484d-930e-4ca046b8a415",
   "metadata": {},
   "outputs": [
    {
     "name": "stdout",
     "output_type": "stream",
     "text": [
      "Requirement already satisfied: openpyxl in c:\\users\\mac019\\anaconda3\\lib\\site-packages (3.0.10)\n",
      "Requirement already satisfied: et_xmlfile in c:\\users\\mac019\\anaconda3\\lib\\site-packages (from openpyxl) (1.1.0)\n"
     ]
    }
   ],
   "source": [
    "!pip install openpyxl"
   ]
  },
  {
   "cell_type": "code",
   "execution_count": 4,
   "id": "97a602d3-adb1-4bd2-81f6-045a63994743",
   "metadata": {},
   "outputs": [
    {
     "name": "stdout",
     "output_type": "stream",
     "text": [
      "지도 생성 완료: heatwave_map_with_geo.html\n"
     ]
    }
   ],
   "source": [
    "import pandas as pd\n",
    "import requests\n",
    "import folium\n",
    "import re\n",
    "\n",
    "address_file = r'고등교육기관 주소록(2024.4.1.).xlsx'\n",
    "address_df = pd.read_excel(address_file, engine='openpyxl')\n",
    "address_df.columns = address_df.loc[4].tolist() \n",
    "address_df = address_df.drop(index=list(range(0, 5))) \n",
    "address_df = address_df[['학교명', '주소']]  \n",
    "address_df.columns = ['이름', '주소'] \n",
    "\n",
    "heatwave_file = r'지역별 폭염일수.xlsx'\n",
    "heatwave_df = pd.read_excel(heatwave_file, engine='openpyxl')\n",
    "heatwave_df.columns = ['이름', '경도', '위도', '폭염일수']\n",
    "\n",
    "merged_df = pd.merge(heatwave_df, address_df, on='이름', how='left')\n",
    "\n",
    "url = 'http://api.vworld.kr/req/address?'\n",
    "params = 'service=address&request=getcoord&version=2.0&crs=epsg:4326&refine=true&simple=false&format=json&type=ROAD'\n",
    "primary_key = '2A645740-77BD-380B-81D8-8AB51C078AB8'\n",
    "\n",
    "def request_geo(address):\n",
    "    \"\"\"주소를 좌표(경도, 위도)로 변환\"\"\"\n",
    "    full_url = f\"{url}&address={address}&key={primary_key}\"\n",
    "    response = requests.get(full_url)\n",
    "    data = response.json()\n",
    "    if data['response']['status'] == 'OK':\n",
    "        x = float(data['response']['result']['point']['x']) \n",
    "        y = float(data['response']['result']['point']['y'])  \n",
    "        return x, y\n",
    "    else:\n",
    "        return None, None\n",
    "\n",
    "longitude_list = []\n",
    "latitude_list = []\n",
    "\n",
    "for addr in merged_df['주소']:\n",
    "    if pd.notna(addr): \n",
    "        clean_addr = re.sub(r'\\([^)]*\\)', '', addr)  \n",
    "        x, y = request_geo(clean_addr)\n",
    "        longitude_list.append(x if x is not None else 0) \n",
    "        latitude_list.append(y if y is not None else 0)\n",
    "    else:\n",
    "        longitude_list.append(0)  \n",
    "        latitude_list.append(0)\n",
    "\n",
    "merged_df['경도'] = longitude_list\n",
    "merged_df['위도'] = latitude_list\n",
    "\n",
    "center_lat = merged_df['위도'].mean()\n",
    "center_lon = merged_df['경도'].mean()\n",
    "map = folium.Map(location=[center_lat, center_lon], zoom_start=7)\n",
    "\n",
    "for i in range(len(merged_df)):\n",
    "    if merged_df['경도'][i] != 0 and merged_df['위도'][i] != 0: \n",
    "        folium.CircleMarker(\n",
    "            location=[merged_df['위도'][i], merged_df['경도'][i]],\n",
    "            radius=merged_df['폭염일수'][i],  \n",
    "            popup=f\"{merged_df['이름'][i]}: {merged_df['폭염일수'][i]}일\",\n",
    "            color='orange',\n",
    "            fill=True,\n",
    "            fill_color='red',\n",
    "            fill_opacity=0.7\n",
    "        ).add_to(map)\n",
    "\n",
    "output_path = r'heatwave_map_with_geo.html'\n",
    "map.save(output_path)\n",
    "print(f\"지도 생성 완료: {output_path}\")"
   ]
  },
  {
   "cell_type": "code",
   "execution_count": 5,
   "id": "fe30486c-c7e0-498d-a679-a007b7876f2f",
   "metadata": {},
   "outputs": [
    {
     "name": "stdout",
     "output_type": "stream",
     "text": [
      "Requirement already satisfied: qrcode in c:\\users\\mac019\\anaconda3\\lib\\site-packages (8.0)\n",
      "Requirement already satisfied: colorama in c:\\users\\mac019\\anaconda3\\lib\\site-packages (from qrcode) (0.4.6)\n"
     ]
    }
   ],
   "source": [
    "!pip install qrcode"
   ]
  },
  {
   "cell_type": "code",
   "execution_count": 6,
   "id": "a06b4fa3-83a6-479c-9d9d-cf962a8e5eb8",
   "metadata": {},
   "outputs": [
    {
     "name": "stdout",
     "output_type": "stream",
     "text": [
      "QR 코드 생성 완료: github_qr_code.png\n"
     ]
    }
   ],
   "source": [
    "import qrcode\n",
    "\n",
    "github_url = \"https://github.com/kasung1020/kangsungbin\"  \n",
    "\n",
    "\n",
    "qr = qrcode.QRCode(\n",
    "    version=1,  \n",
    "    error_correction=qrcode.constants.ERROR_CORRECT_L,  # 오류 보정 수준\n",
    "    box_size=10,  \n",
    "    border=4, \n",
    ")\n",
    "qr.add_data(github_url)\n",
    "qr.make(fit=True)\n",
    "\n",
    "img = qr.make_image(fill_color=\"black\", back_color=\"white\")\n",
    "img_path = \"github_qr_code.png\"\n",
    "img.save(img_path)\n",
    "\n",
    "print(f\"QR 코드 생성 완료: {img_path}\")"
   ]
  },
  {
   "cell_type": "code",
   "execution_count": null,
   "id": "d8876cd6-3e56-428f-a54d-64798f45fc14",
   "metadata": {},
   "outputs": [],
   "source": []
  }
 ],
 "metadata": {
  "kernelspec": {
   "display_name": "Python 3 (ipykernel)",
   "language": "python",
   "name": "python3"
  },
  "language_info": {
   "codemirror_mode": {
    "name": "ipython",
    "version": 3
   },
   "file_extension": ".py",
   "mimetype": "text/x-python",
   "name": "python",
   "nbconvert_exporter": "python",
   "pygments_lexer": "ipython3",
   "version": "3.11.7"
  }
 },
 "nbformat": 4,
 "nbformat_minor": 5
}
